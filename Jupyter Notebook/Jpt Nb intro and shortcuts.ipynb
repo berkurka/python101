{
 "cells": [
  {
   "cell_type": "markdown",
   "metadata": {},
   "source": [
    "## My top 10 Jupyter notebook keyboard shortcuts (Windows)."
   ]
  },
  {
   "cell_type": "markdown",
   "metadata": {},
   "source": [
    "## What is Jupyter Notebook\n",
    "The Jupyter Notebook is an open-source web application that allows you to create and share documents that contain live code, equations, visualizations and narrative text. "
   ]
  },
  {
   "cell_type": "markdown",
   "metadata": {},
   "source": [
    "#### We can develop plenty of projects in a Jupyter Notebook with the knowlage below:\n",
    "1) The main difference between programing in Pycharm and Juppyter notebook is that in the notebook you can separate your code in several cells (\"chunks of code\") and run them seperatley."
   ]
  },
  {
   "cell_type": "markdown",
   "metadata": {},
   "source": [
    "#### Command Mode:\n",
    "1. \"a\" Insert new cell above \n",
    "2. \"b\" Insert new cell below\n",
    "3. \"Enter\" Open edit mode selection in selected cell\n",
    "4. \"Shift + down/up\" Select multiple cells\n",
    "5. \"Shift + Enter\" Run selected cells\n",
    "6. \"Shift + M\" Merge selected cell\n",
    "7. \"x\" cut selected cell\n",
    "8. \"v\" past cell\n",
    "9. \"m\" change cell type to markdown\n",
    "10. \"c\" cange cell to code type\n",
    "\n",
    "\n",
    "#### Edit Mode\n",
    "1. \"\"\"Shift + Enter\"\"\" Run cell\n",
    "2. \"Alt + Enter\" Run cell and create new cell below\n",
    "3. \"Ctr + /\" Comment code (May change depending of keyboard config)\n",
    "4. \"Esc\" Move to Command Mode\n",
    "5. \"Ctr + z\" Undo\n",
    "6. \"Ctr + y\" Redo\n",
    "7. \"Ctr + x\" Cut selected line or selected text\n",
    "8. \"Ctr + v\" Paste\n",
    "9. \"Tab\" Dent\n",
    "10. \"Shift + Tab\" Indent\n"
   ]
  },
  {
   "cell_type": "code",
   "execution_count": null,
   "metadata": {},
   "outputs": [],
   "source": []
  }
 ],
 "metadata": {
  "kernelspec": {
   "display_name": "Python 3",
   "language": "python",
   "name": "python3"
  },
  "language_info": {
   "codemirror_mode": {
    "name": "ipython",
    "version": 3
   },
   "file_extension": ".py",
   "mimetype": "text/x-python",
   "name": "python",
   "nbconvert_exporter": "python",
   "pygments_lexer": "ipython3",
   "version": "3.7.1"
  }
 },
 "nbformat": 4,
 "nbformat_minor": 2
}
